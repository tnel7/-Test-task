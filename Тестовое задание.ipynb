{
 "cells": [
  {
   "cell_type": "markdown",
   "id": "925b6892-d054-4209-b0dd-c34e5c8c6081",
   "metadata": {},
   "source": [
    "## Задание: \n",
    "Мы - онлайн магазин спортивных товаров: одежды, обуви, аксессуаров и спорт-питания. На главной странице магазина мы показываем пользователям баннеры с целью стимулирования своих продаж. Сейчас там случайно показывается один из 5 баннеров. Каждый баннер рекламирует конкретный продукт или всю компанию. Наши маркетологи считают, что опыт взаимодействия с баннерами может различаться по сегментам, а их эффективность - зависеть от особенностей пользовательского поведения. <br/>\n",
    "У менеджера компании появилось предложение от партнеров: продать это место для баннера и рекламировать там другой сервис (оплата предполагается по CPC-модели, т.е. стоимость за клик) <br/><br/>\n",
    "*Помогите менеджеру принять решение - нужно ли продавать это место для рекламы другого сервиса*"
   ]
  },
  {
   "cell_type": "markdown",
   "id": "a6752cfa-e78d-4dd0-8210-6c67886224cc",
   "metadata": {},
   "source": [
    "**Описание данных:** У вас есть информация о том, какой баннер показался пользователю, кликнул ли он на него, а так же информация о покупках пользователей. <br/><br/>\n",
    "title - тип события (показ, клик или покупка) <br/>\n",
    "user - уникальный идентификатор клиента <br/>\n",
    "product - продукт баннера/покупки <br/>\n",
    "page_id - уникальный номер страницы для связки событий (NA для покупок) <br/>\n",
    "order_id - уникальный номер покупки (NA для кликов и показов баннера) <br/>\n",
    "time - время совершения действия <br/>\n",
    "site_version - версия сайта (мобильная или десктопная) <br/>\n"
   ]
  },
  {
   "cell_type": "markdown",
   "id": "7c0f06f1-7ee7-47b7-a8ab-4cc2b5073b59",
   "metadata": {},
   "source": [
    "Начнем с импорта нужных библиотек."
   ]
  },
  {
   "cell_type": "code",
   "execution_count": 1,
   "id": "95d55e6f-5d02-487e-b216-d45b5b8b40f0",
   "metadata": {},
   "outputs": [],
   "source": [
    "import pandas as pd\n",
    "import matplotlib.pyplot as plt\n",
    "import seaborn as sns\n",
    "from scipy.stats import chi2_contingency"
   ]
  },
  {
   "cell_type": "markdown",
   "id": "4e8969fe-26d1-460f-b10d-8bcde561eb09",
   "metadata": {},
   "source": [
    "### Исследовательский анализ, обработка и очистка данных.\n",
    "Прочитаем файл с данными и выведем информацию о первых 5 строках"
   ]
  },
  {
   "cell_type": "code",
   "execution_count": 2,
   "id": "70fb7e6e-5a4e-4303-97dc-64666f068172",
   "metadata": {},
   "outputs": [
    {
     "data": {
      "text/html": [
       "<div>\n",
       "<style scoped>\n",
       "    .dataframe tbody tr th:only-of-type {\n",
       "        vertical-align: middle;\n",
       "    }\n",
       "\n",
       "    .dataframe tbody tr th {\n",
       "        vertical-align: top;\n",
       "    }\n",
       "\n",
       "    .dataframe thead th {\n",
       "        text-align: right;\n",
       "    }\n",
       "</style>\n",
       "<table border=\"1\" class=\"dataframe\">\n",
       "  <thead>\n",
       "    <tr style=\"text-align: right;\">\n",
       "      <th></th>\n",
       "      <th>order_id</th>\n",
       "      <th>page_id</th>\n",
       "      <th>product</th>\n",
       "      <th>site_version</th>\n",
       "      <th>time</th>\n",
       "      <th>title</th>\n",
       "      <th>user</th>\n",
       "    </tr>\n",
       "  </thead>\n",
       "  <tbody>\n",
       "    <tr>\n",
       "      <th>0</th>\n",
       "      <td>NaN</td>\n",
       "      <td>3.0</td>\n",
       "      <td>company</td>\n",
       "      <td>mobile</td>\n",
       "      <td>2017-02-09 20:24:04</td>\n",
       "      <td>banner_show</td>\n",
       "      <td>user_0</td>\n",
       "    </tr>\n",
       "    <tr>\n",
       "      <th>1</th>\n",
       "      <td>NaN</td>\n",
       "      <td>3699687.0</td>\n",
       "      <td>company</td>\n",
       "      <td>mobile</td>\n",
       "      <td>2017-02-07 10:03:07</td>\n",
       "      <td>banner_show</td>\n",
       "      <td>user_0</td>\n",
       "    </tr>\n",
       "    <tr>\n",
       "      <th>2</th>\n",
       "      <td>NaN</td>\n",
       "      <td>14.0</td>\n",
       "      <td>sneakers</td>\n",
       "      <td>mobile</td>\n",
       "      <td>2017-01-29 13:02:23</td>\n",
       "      <td>banner_show</td>\n",
       "      <td>user_1</td>\n",
       "    </tr>\n",
       "    <tr>\n",
       "      <th>3</th>\n",
       "      <td>NaN</td>\n",
       "      <td>10362176.0</td>\n",
       "      <td>company</td>\n",
       "      <td>mobile</td>\n",
       "      <td>2017-04-12 15:39:19</td>\n",
       "      <td>banner_show</td>\n",
       "      <td>user_1</td>\n",
       "    </tr>\n",
       "    <tr>\n",
       "      <th>4</th>\n",
       "      <td>NaN</td>\n",
       "      <td>14.0</td>\n",
       "      <td>sneakers</td>\n",
       "      <td>mobile</td>\n",
       "      <td>2017-01-29 13:04:42</td>\n",
       "      <td>banner_click</td>\n",
       "      <td>user_1</td>\n",
       "    </tr>\n",
       "  </tbody>\n",
       "</table>\n",
       "</div>"
      ],
      "text/plain": [
       "   order_id     page_id   product site_version                 time  \\\n",
       "0       NaN         3.0   company       mobile  2017-02-09 20:24:04   \n",
       "1       NaN   3699687.0   company       mobile  2017-02-07 10:03:07   \n",
       "2       NaN        14.0  sneakers       mobile  2017-01-29 13:02:23   \n",
       "3       NaN  10362176.0   company       mobile  2017-04-12 15:39:19   \n",
       "4       NaN        14.0  sneakers       mobile  2017-01-29 13:04:42   \n",
       "\n",
       "          title    user  \n",
       "0   banner_show  user_0  \n",
       "1   banner_show  user_0  \n",
       "2   banner_show  user_1  \n",
       "3   banner_show  user_1  \n",
       "4  banner_click  user_1  "
      ]
     },
     "metadata": {},
     "output_type": "display_data"
    }
   ],
   "source": [
    "df = pd.read_csv('C:/ha_data.csv', sep=';')\n",
    "display(df.head())"
   ]
  },
  {
   "cell_type": "code",
   "execution_count": 3,
   "id": "ef450c46-4cc7-412b-a93b-b4ec4c04479b",
   "metadata": {},
   "outputs": [
    {
     "name": "stdout",
     "output_type": "stream",
     "text": [
      "<class 'pandas.core.frame.DataFrame'>\n",
      "RangeIndex: 8471226 entries, 0 to 8471225\n",
      "Data columns (total 7 columns):\n",
      " #   Column        Dtype  \n",
      "---  ------        -----  \n",
      " 0   order_id      float64\n",
      " 1   page_id       float64\n",
      " 2   product       object \n",
      " 3   site_version  object \n",
      " 4   time          object \n",
      " 5   title         object \n",
      " 6   user          object \n",
      "dtypes: float64(2), object(5)\n",
      "memory usage: 452.4+ MB\n"
     ]
    },
    {
     "data": {
      "text/plain": [
       "None"
      ]
     },
     "metadata": {},
     "output_type": "display_data"
    }
   ],
   "source": [
    "display(df.info())"
   ]
  },
  {
   "cell_type": "markdown",
   "id": "90d5acf4-f153-469b-8664-b5b99d983357",
   "metadata": {},
   "source": [
    "Выводы после первичного осмотра данных можно сделать такие:\n",
    "* в датасете около 8.5 миллионов строк\n",
    "* имеется столбец с датой, который записан строкой\n",
    "\n",
    "Теперь стоит проверить данные на пропуски"
   ]
  },
  {
   "cell_type": "code",
   "execution_count": 4,
   "id": "8028455f-824b-4a45-bd3f-be39753a24e1",
   "metadata": {},
   "outputs": [
    {
     "data": {
      "text/plain": [
       "order_id        8222504\n",
       "page_id          248722\n",
       "product               0\n",
       "site_version          0\n",
       "time                  0\n",
       "title                 0\n",
       "user                  0\n",
       "dtype: int64"
      ]
     },
     "execution_count": 4,
     "metadata": {},
     "output_type": "execute_result"
    }
   ],
   "source": [
    "df.isna().sum()"
   ]
  },
  {
   "cell_type": "markdown",
   "id": "b46c4f67-cfd1-42d4-b4b7-13d7a0eaccdf",
   "metadata": {},
   "source": [
    "В условии задачи было указано, что пропуски в столбце order_id означают клик и показ банера, а пропуски в столбце page_id это покупки. Значит данные не утеряны, нам просто в дальнейшем будет удобнее заменить пропуски на соответствующие категории. Можно проверить соответствие количества пропусков типу показа."
   ]
  },
  {
   "cell_type": "code",
   "execution_count": 5,
   "id": "2ae99b64-f452-4147-b640-34f4d97954b5",
   "metadata": {},
   "outputs": [
    {
     "data": {
      "text/plain": [
       "title\n",
       "banner_show     7393319\n",
       "banner_click     829185\n",
       "order            248722\n",
       "Name: count, dtype: int64"
      ]
     },
     "execution_count": 5,
     "metadata": {},
     "output_type": "execute_result"
    }
   ],
   "source": [
    "df['title'].value_counts()"
   ]
  },
  {
   "cell_type": "markdown",
   "id": "55e4f46f-c403-49a1-9f1e-96212ba16189",
   "metadata": {},
   "source": [
    "Действительно, цифры сходятся. у нас 8.2 млн показа и кликов и 250 тыс покупок."
   ]
  },
  {
   "cell_type": "markdown",
   "id": "e5a33a84-5ba2-41f1-9154-08f296f0fa85",
   "metadata": {},
   "source": [
    "Теперь можно изменить типы в столбцах на более подходящие"
   ]
  },
  {
   "cell_type": "code",
   "execution_count": 6,
   "id": "7dd008e9-fb81-4ba1-a795-d3b992c4b1a1",
   "metadata": {},
   "outputs": [],
   "source": [
    "df['time'] = pd.to_datetime(df['time'])"
   ]
  },
  {
   "cell_type": "markdown",
   "id": "79a46aa2-719d-4f82-afb9-d1d68ee23d2c",
   "metadata": {},
   "source": [
    "Также имеются пропуски в order_id (потому что покупка — это отдельное событие), здесь их можно оставить как есть."
   ]
  },
  {
   "cell_type": "code",
   "execution_count": 7,
   "id": "d22470b6-6d28-4422-8354-136d0d50634b",
   "metadata": {},
   "outputs": [
    {
     "data": {
      "text/plain": [
       "0"
      ]
     },
     "execution_count": 7,
     "metadata": {},
     "output_type": "execute_result"
    }
   ],
   "source": [
    "#проверим наличие дубликатов\n",
    "df.duplicated().sum()"
   ]
  },
  {
   "cell_type": "markdown",
   "id": "b62c87fc-cc24-4fe0-8604-0ea7161800f3",
   "metadata": {},
   "source": [
    "### Построение метрик для анализа баннеров\n",
    "Создадим сводную таблицу, чтобы посмотреть на поведение пользователей по типам событий:"
   ]
  },
  {
   "cell_type": "code",
   "execution_count": 8,
   "id": "b9d14052-1ec0-4156-b4c1-b694db535119",
   "metadata": {},
   "outputs": [
    {
     "data": {
      "text/html": [
       "<div>\n",
       "<style scoped>\n",
       "    .dataframe tbody tr th:only-of-type {\n",
       "        vertical-align: middle;\n",
       "    }\n",
       "\n",
       "    .dataframe tbody tr th {\n",
       "        vertical-align: top;\n",
       "    }\n",
       "\n",
       "    .dataframe thead th {\n",
       "        text-align: right;\n",
       "    }\n",
       "</style>\n",
       "<table border=\"1\" class=\"dataframe\">\n",
       "  <thead>\n",
       "    <tr style=\"text-align: right;\">\n",
       "      <th>title</th>\n",
       "      <th>banner_click</th>\n",
       "      <th>banner_show</th>\n",
       "      <th>order</th>\n",
       "    </tr>\n",
       "    <tr>\n",
       "      <th>product</th>\n",
       "      <th></th>\n",
       "      <th></th>\n",
       "      <th></th>\n",
       "    </tr>\n",
       "  </thead>\n",
       "  <tbody>\n",
       "    <tr>\n",
       "      <th>accessories</th>\n",
       "      <td>136254</td>\n",
       "      <td>1440954</td>\n",
       "      <td>44551</td>\n",
       "    </tr>\n",
       "    <tr>\n",
       "      <th>clothes</th>\n",
       "      <td>220595</td>\n",
       "      <td>1453128</td>\n",
       "      <td>112715</td>\n",
       "    </tr>\n",
       "    <tr>\n",
       "      <th>company</th>\n",
       "      <td>144821</td>\n",
       "      <td>1580238</td>\n",
       "      <td>0</td>\n",
       "    </tr>\n",
       "    <tr>\n",
       "      <th>sneakers</th>\n",
       "      <td>182597</td>\n",
       "      <td>1453029</td>\n",
       "      <td>67719</td>\n",
       "    </tr>\n",
       "    <tr>\n",
       "      <th>sports_nutrition</th>\n",
       "      <td>144918</td>\n",
       "      <td>1465970</td>\n",
       "      <td>23737</td>\n",
       "    </tr>\n",
       "  </tbody>\n",
       "</table>\n",
       "</div>"
      ],
      "text/plain": [
       "title             banner_click  banner_show   order\n",
       "product                                            \n",
       "accessories             136254      1440954   44551\n",
       "clothes                 220595      1453128  112715\n",
       "company                 144821      1580238       0\n",
       "sneakers                182597      1453029   67719\n",
       "sports_nutrition        144918      1465970   23737"
      ]
     },
     "metadata": {},
     "output_type": "display_data"
    }
   ],
   "source": [
    "banner_stats = df.pivot_table(\n",
    "    index='product', \n",
    "    columns='title', \n",
    "    values='user', \n",
    "    aggfunc='count', \n",
    "    fill_value=0\n",
    ")\n",
    "display(banner_stats)"
   ]
  },
  {
   "cell_type": "markdown",
   "id": "0ca1a5a4-8ce4-427f-8d82-d0bf391641c5",
   "metadata": {},
   "source": [
    "Для большей наглядности выведем график"
   ]
  },
  {
   "cell_type": "code",
   "execution_count": 9,
   "id": "aae7d04e-e30e-4243-81c9-b0675104f0cf",
   "metadata": {},
   "outputs": [
    {
     "data": {
      "image/png": "[encoded data removed]",
      "text/plain": [
       "<Figure size 800x600 with 1 Axes>"
      ]
     },
     "metadata": {},
     "output_type": "display_data"
    }
   ],
   "source": [
    "banner_stats = banner_stats[['banner_show', 'banner_click', 'order']]\n",
    "\n",
    "ax = banner_stats.plot(\n",
    "    kind='bar', \n",
    "    stacked=True, \n",
    "    figsize=(8, 6),\n",
    "    colormap='Set2',\n",
    "    edgecolor='black'\n",
    ")\n",
    "\n",
    "# Настройки графика\n",
    "plt.title('Статистика баннеров: Показ, Клик и Покупка', fontsize=14)\n",
    "plt.xlabel('Информация', fontsize=12)\n",
    "plt.ylabel('Количество', fontsize=12)\n",
    "plt.xticks(rotation=45)\n",
    "plt.legend(title='Тип события', bbox_to_anchor=(1.05, 1), loc='upper left')\n",
    "\n",
    "# Отображаем график\n",
    "plt.show()"
   ]
  },
  {
   "cell_type": "markdown",
   "id": "7d0e6fe9-a318-4840-87ba-f05e8e2ab8ce",
   "metadata": {},
   "source": [
    "Получаем, что больше всего люди кликали и покупали на банеры с одеждой и обувью."
   ]
  },
  {
   "cell_type": "markdown",
   "id": "c930c2a5-23e6-43f3-a710-690c0b065e67",
   "metadata": {},
   "source": [
    "Посчитаем CTR (Click-Through Rate) для каждого баннера: <br/>\n",
    "**CTR** = Количество кликов / Количество показов"
   ]
  },
  {
   "cell_type": "code",
   "execution_count": 10,
   "id": "d5921308-55a9-4b27-b592-a493e3610d4c",
   "metadata": {},
   "outputs": [
    {
     "name": "stdout",
     "output_type": "stream",
     "text": [
      "product\n",
      "accessories         0.094558\n",
      "clothes             0.151807\n",
      "company             0.091645\n",
      "sneakers            0.125666\n",
      "sports_nutrition    0.098855\n",
      "dtype: float64\n"
     ]
    }
   ],
   "source": [
    "data_banner = df[df['title'] == 'banner_show']\n",
    "data_clicks = df[df['title'] == 'banner_click']\n",
    "\n",
    "# Считаем количество показов и кликов для каждого баннера\n",
    "shows = data_banner.groupby('product').size()\n",
    "clicks = data_clicks.groupby('product').size()\n",
    "\n",
    "# Вычисляем CTR\n",
    "ctr = (clicks / shows).fillna(0)\n",
    "print(ctr)"
   ]
  },
  {
   "cell_type": "markdown",
   "id": "5582f8fd-1f4a-4193-a681-1b96310f4592",
   "metadata": {},
   "source": [
    "Данная метрика покажет насколько \"желанными\" для клика были каждый из банеров. Исходя из полученных значений можно сделать выводы, что самый желаемый банер - с одеждой. В данном случае 15% пользователей, увидевших баннер, кликнули на него."
   ]
  },
  {
   "cell_type": "markdown",
   "id": "8ae14000-6af9-4abe-9817-abf215ce313c",
   "metadata": {},
   "source": [
    "Теперь посчитаем конверсию в покупку (CR): <br/>\n",
    "**CR** = Количество покупок / Количество кликов"
   ]
  },
  {
   "cell_type": "code",
   "execution_count": 11,
   "id": "a109ced3-02e6-4d2f-8f6f-e814ae0c86c0",
   "metadata": {},
   "outputs": [
    {
     "name": "stdout",
     "output_type": "stream",
     "text": [
      "product\n",
      "accessories         0.326970\n",
      "clothes             0.510959\n",
      "company             0.000000\n",
      "sneakers            0.370866\n",
      "sports_nutrition    0.163796\n",
      "dtype: float64\n"
     ]
    }
   ],
   "source": [
    "data_purchase = df[df['title'] == 'order']\n",
    "purchases = data_purchase.groupby('product').size()\n",
    "\n",
    "# Вычисляем CR\n",
    "cr = (purchases / clicks).fillna(0)\n",
    "print(cr)"
   ]
  },
  {
   "cell_type": "markdown",
   "id": "c0cf895f-77e0-439b-a522-4f9643657c92",
   "metadata": {},
   "source": [
    "Теперь расшифруем каждую конверсию: \n",
    "\n",
    "* Accessories: 0.327 - Примерно **каждый третий** кликнувший пользователь совершил покупку.\n",
    "* Clothes: 0.511 - Примерно **каждый второй** кликнувший пользователь совершил покупку.\n",
    "* Company: 0.000 - **Ни один** кликнувший пользователь не совершил покупку.\n",
    "* Sneakers: 0.371 - Примерно **каждый третий** кликнувший пользователь совершил покупку.\n",
    "* Sports Nutrition: 0.164 - Примерно **каждый шестой** кликнувший пользователь совершил покупку.\n",
    "\n",
    "Подводя итог, можно сделать вывод что у баннеров довольно хорошая конверсия в покупку, учитывая клики на банер. Если не считать банер с информацией о компании, остальные в большинстве своем неплохо справляются с задачей продать товар."
   ]
  },
  {
   "cell_type": "markdown",
   "id": "0dd4d109-cbb1-4be3-9f80-6ae2f66e72bf",
   "metadata": {},
   "source": [
    "### Сравнение эффективности баннеров с CPC-моделью\n",
    "Вычислим прибыль от каждого баннера: <br/>\n",
    "Например, если мы знаем среднюю прибыль с одной покупки (допустим, 100 у.е.), можно рассчитать общий доход:"
   ]
  },
  {
   "cell_type": "code",
   "execution_count": 12,
   "id": "8170dbe1-afb0-4e3e-baff-26219ca6784a",
   "metadata": {},
   "outputs": [
    {
     "name": "stdout",
     "output_type": "stream",
     "text": [
      "Общая выручка: 24872200\n"
     ]
    }
   ],
   "source": [
    "average_revenue_per_order = 100  # Предполагаем\n",
    "total_revenue = (purchases * average_revenue_per_order).sum()\n",
    "print(f\"Общая выручка: {total_revenue}\")"
   ]
  },
  {
   "cell_type": "markdown",
   "id": "be859166-0ef1-4773-b232-fac9fc670c6a",
   "metadata": {},
   "source": [
    "Вычислим предполагаемую прибыль от продажи баннерного места по CPC: <br/>\n",
    "Предположим, что за каждый клик рекламодатель платит 5 у.е.."
   ]
  },
  {
   "cell_type": "code",
   "execution_count": 13,
   "id": "bb9524f5-d296-4a82-a579-0b41d6b790c1",
   "metadata": {},
   "outputs": [
    {
     "name": "stdout",
     "output_type": "stream",
     "text": [
      "CPC Выручка: 4145925\n"
     ]
    }
   ],
   "source": [
    "cpc_revenue = clicks.sum() * 5\n",
    "print(f\"CPC Выручка: {cpc_revenue}\")"
   ]
  },
  {
   "cell_type": "code",
   "execution_count": 14,
   "id": "6eb01c72-a98a-4886-9f47-bdf4e455bd7f",
   "metadata": {},
   "outputs": [
    {
     "name": "stdout",
     "output_type": "stream",
     "text": [
      "Общая выручка больше в 5.9991919776648155 раз\n"
     ]
    }
   ],
   "source": [
    "print('Общая выручка больше в', total_revenue/cpc_revenue, 'раз')"
   ]
  },
  {
   "cell_type": "markdown",
   "id": "29104467-22cf-4586-b427-96136f1c5743",
   "metadata": {},
   "source": [
    "Средний заказ и средняя стоимость клика дают лишь приблизительную картину. Но если баннеры приносят значимые продажи, стоит рассмотреть, насколько доход от продаж превышает потенциальный доход от CPC-рекламы. На основании таких данных сложно сделать выводы, но даже в примерной модели выручка за уже имеющиеся баннеры больше в 6 раз. "
   ]
  },
  {
   "cell_type": "markdown",
   "id": "6569095f-4fb6-4c94-8b89-63cdfc56dc13",
   "metadata": {},
   "source": [
    "### Проверка гипотезы о различном поведении в разных сегментах"
   ]
  },
  {
   "cell_type": "markdown",
   "id": "8473743b-15a9-49c7-a6cd-a83de3095b57",
   "metadata": {},
   "source": [
    "В условии задачи упоминалось, что маркетологи считают, что взаимодействие с баннерами различается по сегментам и зависит от поведения пользователей. Мы можем использовать проверку статистических различий между сегментами пользователей, для того чтобы проверить эту теорию. <br/><br/>\n",
    "Сегменты могут быть построены на основе: <br/>\n",
    "* Версии сайта: десктоп / мобильная (столбец site_version) \n",
    "* Продукта (категория баннера)\n",
    "* Активность пользователей: кликавшие или нет / покупавшие или нет\n",
    "\n"
   ]
  },
  {
   "cell_type": "code",
   "execution_count": 15,
   "id": "b4b9211b-de40-4532-8e56-0f00a1d9e5dc",
   "metadata": {},
   "outputs": [
    {
     "data": {
      "text/html": [
       "<div>\n",
       "<style scoped>\n",
       "    .dataframe tbody tr th:only-of-type {\n",
       "        vertical-align: middle;\n",
       "    }\n",
       "\n",
       "    .dataframe tbody tr th {\n",
       "        vertical-align: top;\n",
       "    }\n",
       "\n",
       "    .dataframe thead th {\n",
       "        text-align: right;\n",
       "    }\n",
       "</style>\n",
       "<table border=\"1\" class=\"dataframe\">\n",
       "  <thead>\n",
       "    <tr style=\"text-align: right;\">\n",
       "      <th></th>\n",
       "      <th>title</th>\n",
       "      <th>banner_click</th>\n",
       "      <th>banner_show</th>\n",
       "      <th>order</th>\n",
       "      <th>CTR</th>\n",
       "      <th>CR</th>\n",
       "    </tr>\n",
       "    <tr>\n",
       "      <th>site_version</th>\n",
       "      <th>product</th>\n",
       "      <th></th>\n",
       "      <th></th>\n",
       "      <th></th>\n",
       "      <th></th>\n",
       "      <th></th>\n",
       "    </tr>\n",
       "  </thead>\n",
       "  <tbody>\n",
       "    <tr>\n",
       "      <th rowspan=\"5\" valign=\"top\">desktop</th>\n",
       "      <th>accessories</th>\n",
       "      <td>18531</td>\n",
       "      <td>410003</td>\n",
       "      <td>22121</td>\n",
       "      <td>0.045197</td>\n",
       "      <td>0.053953</td>\n",
       "    </tr>\n",
       "    <tr>\n",
       "      <th>clothes</th>\n",
       "      <td>32781</td>\n",
       "      <td>418070</td>\n",
       "      <td>66977</td>\n",
       "      <td>0.078410</td>\n",
       "      <td>0.160205</td>\n",
       "    </tr>\n",
       "    <tr>\n",
       "      <th>company</th>\n",
       "      <td>28464</td>\n",
       "      <td>477374</td>\n",
       "      <td>0</td>\n",
       "      <td>0.059626</td>\n",
       "      <td>0.000000</td>\n",
       "    </tr>\n",
       "    <tr>\n",
       "      <th>sneakers</th>\n",
       "      <td>21419</td>\n",
       "      <td>411598</td>\n",
       "      <td>32565</td>\n",
       "      <td>0.052039</td>\n",
       "      <td>0.079118</td>\n",
       "    </tr>\n",
       "    <tr>\n",
       "      <th>sports_nutrition</th>\n",
       "      <td>13870</td>\n",
       "      <td>417595</td>\n",
       "      <td>11518</td>\n",
       "      <td>0.033214</td>\n",
       "      <td>0.027582</td>\n",
       "    </tr>\n",
       "    <tr>\n",
       "      <th rowspan=\"5\" valign=\"top\">mobile</th>\n",
       "      <th>accessories</th>\n",
       "      <td>117723</td>\n",
       "      <td>1030951</td>\n",
       "      <td>22430</td>\n",
       "      <td>0.114189</td>\n",
       "      <td>0.021757</td>\n",
       "    </tr>\n",
       "    <tr>\n",
       "      <th>clothes</th>\n",
       "      <td>187814</td>\n",
       "      <td>1035058</td>\n",
       "      <td>45738</td>\n",
       "      <td>0.181453</td>\n",
       "      <td>0.044189</td>\n",
       "    </tr>\n",
       "    <tr>\n",
       "      <th>company</th>\n",
       "      <td>116357</td>\n",
       "      <td>1102864</td>\n",
       "      <td>0</td>\n",
       "      <td>0.105504</td>\n",
       "      <td>0.000000</td>\n",
       "    </tr>\n",
       "    <tr>\n",
       "      <th>sneakers</th>\n",
       "      <td>161178</td>\n",
       "      <td>1041431</td>\n",
       "      <td>35154</td>\n",
       "      <td>0.154766</td>\n",
       "      <td>0.033755</td>\n",
       "    </tr>\n",
       "    <tr>\n",
       "      <th>sports_nutrition</th>\n",
       "      <td>131048</td>\n",
       "      <td>1048375</td>\n",
       "      <td>12219</td>\n",
       "      <td>0.125001</td>\n",
       "      <td>0.011655</td>\n",
       "    </tr>\n",
       "  </tbody>\n",
       "</table>\n",
       "</div>"
      ],
      "text/plain": [
       "title                          banner_click  banner_show  order       CTR  \\\n",
       "site_version product                                                        \n",
       "desktop      accessories              18531       410003  22121  0.045197   \n",
       "             clothes                  32781       418070  66977  0.078410   \n",
       "             company                  28464       477374      0  0.059626   \n",
       "             sneakers                 21419       411598  32565  0.052039   \n",
       "             sports_nutrition         13870       417595  11518  0.033214   \n",
       "mobile       accessories             117723      1030951  22430  0.114189   \n",
       "             clothes                 187814      1035058  45738  0.181453   \n",
       "             company                 116357      1102864      0  0.105504   \n",
       "             sneakers                161178      1041431  35154  0.154766   \n",
       "             sports_nutrition        131048      1048375  12219  0.125001   \n",
       "\n",
       "title                                CR  \n",
       "site_version product                     \n",
       "desktop      accessories       0.053953  \n",
       "             clothes           0.160205  \n",
       "             company           0.000000  \n",
       "             sneakers          0.079118  \n",
       "             sports_nutrition  0.027582  \n",
       "mobile       accessories       0.021757  \n",
       "             clothes           0.044189  \n",
       "             company           0.000000  \n",
       "             sneakers          0.033755  \n",
       "             sports_nutrition  0.011655  "
      ]
     },
     "metadata": {},
     "output_type": "display_data"
    }
   ],
   "source": [
    "# Сводная таблица для подсчёта количества показов, кликов и покупок по сегментам\n",
    "segmented_stats = df.pivot_table(\n",
    "    index=['site_version', 'product'], \n",
    "    columns='title', \n",
    "    values='user', \n",
    "    aggfunc='count', \n",
    "    fill_value=0\n",
    ")\n",
    "\n",
    "# Рассчитаем CTR и CR для каждого сегмента\n",
    "segmented_stats['CTR'] = segmented_stats['banner_click'] / segmented_stats['banner_show']\n",
    "segmented_stats['CR'] = segmented_stats['order'] / segmented_stats['banner_show']\n",
    "\n",
    "display(segmented_stats)\n"
   ]
  },
  {
   "cell_type": "markdown",
   "id": "c50df70d-5546-4f4c-9239-d0a9f11813d3",
   "metadata": {},
   "source": [
    "Для дальнейших выводов посчитаем отдельно средний CTR и CR для разных версий сайта."
   ]
  },
  {
   "cell_type": "code",
   "execution_count": 16,
   "id": "39caa6b8-65af-4ed0-8bf3-48eb9f3815f3",
   "metadata": {},
   "outputs": [
    {
     "data": {
      "text/html": [
       "<div>\n",
       "<style scoped>\n",
       "    .dataframe tbody tr th:only-of-type {\n",
       "        vertical-align: middle;\n",
       "    }\n",
       "\n",
       "    .dataframe tbody tr th {\n",
       "        vertical-align: top;\n",
       "    }\n",
       "\n",
       "    .dataframe thead th {\n",
       "        text-align: right;\n",
       "    }\n",
       "</style>\n",
       "<table border=\"1\" class=\"dataframe\">\n",
       "  <thead>\n",
       "    <tr style=\"text-align: right;\">\n",
       "      <th>title</th>\n",
       "      <th>CTR</th>\n",
       "      <th>CR</th>\n",
       "    </tr>\n",
       "    <tr>\n",
       "      <th>site_version</th>\n",
       "      <th></th>\n",
       "      <th></th>\n",
       "    </tr>\n",
       "  </thead>\n",
       "  <tbody>\n",
       "    <tr>\n",
       "      <th>desktop</th>\n",
       "      <td>0.053697</td>\n",
       "      <td>0.064172</td>\n",
       "    </tr>\n",
       "    <tr>\n",
       "      <th>mobile</th>\n",
       "      <td>0.136183</td>\n",
       "      <td>0.022271</td>\n",
       "    </tr>\n",
       "  </tbody>\n",
       "</table>\n",
       "</div>"
      ],
      "text/plain": [
       "title              CTR        CR\n",
       "site_version                    \n",
       "desktop       0.053697  0.064172\n",
       "mobile        0.136183  0.022271"
      ]
     },
     "metadata": {},
     "output_type": "display_data"
    }
   ],
   "source": [
    "# Группируем данные по версии сайта и рассчитываем средний CTR и CR\n",
    "average_stats = segmented_stats.groupby('site_version')[['CTR', 'CR']].mean()\n",
    "\n",
    "# Отображаем результат\n",
    "display(average_stats)"
   ]
  },
  {
   "cell_type": "markdown",
   "id": "e556898f-0135-4ee2-9f63-c0fe09f38fbe",
   "metadata": {},
   "source": [
    "Для этой сводной таблицы также визуализируем данные."
   ]
  },
  {
   "cell_type": "code",
   "execution_count": 18,
   "id": "5ad9e238-c48e-4eb5-a0cc-03c220ab4f6d",
   "metadata": {},
   "outputs": [
    {
     "data": {
      "image/png": "[encoded data removed]",
      "text/plain": [
       "<Figure size 1200x600 with 1 Axes>"
      ]
     },
     "metadata": {},
     "output_type": "display_data"
    },
    {
     "data": {
      "image/png": "[encoded data removed]",
      "text/plain": [
       "<Figure size 1200x600 with 1 Axes>"
      ]
     },
     "metadata": {},
     "output_type": "display_data"
    }
   ],
   "source": [
    "# Преобразуем данные для визуализации в формат DataFrame\n",
    "segmented_stats_reset = segmented_stats.reset_index()\n",
    "\n",
    "# График CTR по версиям сайта и продуктам\n",
    "plt.figure(figsize=(12, 6))\n",
    "sns.barplot(data=segmented_stats_reset, x='product', y='CTR', hue='site_version')\n",
    "plt.title('CTR по версиям сайта и категориям продуктов')\n",
    "plt.show()\n",
    "\n",
    "# График CR по версиям сайта и продуктам\n",
    "plt.figure(figsize=(12, 6))\n",
    "sns.barplot(data=segmented_stats_reset, x='product', y='CR', hue='site_version')\n",
    "plt.title('CR по версиям сайта и категориям продуктов')\n",
    "plt.show()"
   ]
  },
  {
   "cell_type": "markdown",
   "id": "92035505-6e4b-4209-8aa1-414ac714ae8d",
   "metadata": {},
   "source": [
    "Выводы неоднозначны. В мобильной версии метрика CTR больше, чем в десктопной, что значит пользователи чаще кликали на все банеры, в среднем это значение составляет 0.13 против 0.05. Но не смотря на это, в десктопной версии больше метрика CR(0.06 против 0.02), что означает большее количество покупок. <br/>\n",
    "**Можно сделать вывод, что в мобильной версии пользователи больше кликают и смотрят сайт, а в десктопной покупают.**"
   ]
  },
  {
   "cell_type": "markdown",
   "id": "77b255d4-2655-4621-af65-c221df62c9c7",
   "metadata": {},
   "source": [
    "### Проверка статистической значимости нашей гипотезы.\n",
    "Используем критерий хи-квадрат для проверки различий между сегментами. Он поможет проверить, являются ли различия в взаимодействии статистически значимыми. "
   ]
  },
  {
   "cell_type": "code",
   "execution_count": 19,
   "id": "77f6bbef-1469-4e7f-883a-278fe58ed378",
   "metadata": {},
   "outputs": [
    {
     "name": "stdout",
     "output_type": "stream",
     "text": [
      "Хи-квадрат: 92351.66100733451, p-value: 0.0\n"
     ]
    }
   ],
   "source": [
    "# Создадим таблицу сопряжённости для кликов на десктопе и мобильной версии\n",
    "clicks_contingency = pd.crosstab(df['site_version'], df['title'] == 'banner_click')\n",
    "\n",
    "# Применим тест хи-квадрат\n",
    "chi2, p, dof, expected = chi2_contingency(clicks_contingency)\n",
    "\n",
    "print(f'Хи-квадрат: {chi2}, p-value: {p}')"
   ]
  },
  {
   "cell_type": "markdown",
   "id": "fa2af880-ee31-485b-9acf-ec3d52ba0e63",
   "metadata": {},
   "source": [
    "P-уровень значимости получился близок к 0, следовательно мы можем отклонить нулевую гипотезу о том, что между поведениями в сегментах нет различия. Это было итак довольно очевидно, смотря на графики, но проверить стоило."
   ]
  },
  {
   "cell_type": "markdown",
   "id": "90014793-63b9-4fbb-a233-f5994f795198",
   "metadata": {},
   "source": [
    "### Итоговый вывод:\n",
    "Маркетологи оказались правы, предположив что между разными сегментами пользователей есть различия в поведении. Проведя исследовательский анализ эти различия были обнаружены:\n",
    "\n",
    "Различие в метриках по сегментам:\n",
    "\n",
    "* CTR выше в **мобильной версии**, что может указывать на лучшее восприятие баннеров или более удобный интерфейс для **кликов**.\n",
    "* CR выше на **десктопе**, что говорит о том, что на этой версии сайта пользователи **склонны совершать покупки** после взаимодействия с баннерами.\n",
    "\n",
    "Это различие важно учитывать при оценке эффективности баннеров и принятии решения: оба сегмента приносят пользу, но с разными акцентами (мобильные пользователи кликают, а десктопные — покупают).\n",
    "Исходя из этого, можно сказать, что баннеры стимулируют продажи, особенно для рекламируемых товаров.\n",
    "Средний заказ и средняя стоимость клика дают лишь приблизительную картину. Но если баннеры приносят значимые продажи, стоит рассмотреть, насколько доход от продаж превышает потенциальный доход от CPC-рекламы. <br/><br/>\n",
    "\n",
    "**Рекомендации:**\n",
    "\n",
    "Дать итоговый ответ довольно сложно, так как отсуствует информация о суммах заказов и цене, предлагаемой за клик. Есть несколько вариантов: \n",
    "\n",
    "* Узнать и посчитать доход от продаж, стимулируемых баннерами, и если он значительно превышает потенциальный доход от внешней рекламы, то оставить свои баннеры.\n",
    "* Если доход от внешней рекламы выглядит более выгодным или стабильным, стоит рассмотреть продажу места.\n",
    "* Также можно провести A/B тестирование: на части трафика разместить рекламу внешнего сервиса и сравнить доход с текущими показателями.\n",
    "\n",
    "Если же от аналитика требуется дать решение задачи учитывая только имеющиеся данные, то **рекомендую оставить текущие баннеры.**"
   ]
  }
 ],
 "metadata": {
  "kernelspec": {
   "display_name": "Python 3 (ipykernel)",
   "language": "python",
   "name": "python3"
  },
  "language_info": {
   "codemirror_mode": {
    "name": "ipython",
    "version": 3
   },
   "file_extension": ".py",
   "mimetype": "text/x-python",
   "name": "python",
   "nbconvert_exporter": "python",
   "pygments_lexer": "ipython3",
   "version": "3.11.3"
  }
 },
 "nbformat": 4,
 "nbformat_minor": 5
}
